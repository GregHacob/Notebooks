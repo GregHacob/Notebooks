{
 "cells": [
  {
   "cell_type": "code",
   "execution_count": 1,
   "metadata": {
    "collapsed": true
   },
   "outputs": [],
   "source": [
    "import numpy as np\n",
    "import theano.tensor as T\n",
    "from theano import function"
   ]
  },
  {
   "cell_type": "code",
   "execution_count": 3,
   "metadata": {
    "collapsed": true
   },
   "outputs": [],
   "source": [
    "# Define variables/objects\n",
    "# Define a mathematical expression in the form of a function\n",
    "# Evaluate expressions by passing values\n",
    "a = T.dscalar('a')\n",
    "b = T.dscalar('b')\n",
    "c = a*b\n",
    "f = function([a,b],c)"
   ]
  },
  {
   "cell_type": "code",
   "execution_count": 4,
   "metadata": {
    "collapsed": false
   },
   "outputs": [
    {
     "data": {
      "text/plain": [
       "array(4.5)"
      ]
     },
     "execution_count": 4,
     "metadata": {},
     "output_type": "execute_result"
    }
   ],
   "source": [
    "f(1.5,3)"
   ]
  },
  {
   "cell_type": "markdown",
   "metadata": {},
   "source": [
    "### Theano Variable Types\n",
    "* t = 0: scalar\n",
    "* t = 1: vector\n",
    "* t = 2: matrix\n",
    "* and so on..\n",
    "\n",
    "\n",
    "* byte: bscalar, bvector, bmatrix, brow, bcol, btensor3, btensor4\n",
    "* 16-bit integers: wscalar, wvector, wmatrix, wrow, wcol, wtensor3, wtensor4\n",
    "* 32-bit integers: iscalar, ivector, imatrix, irow, icol, itensor3, itensor4\n",
    "* 64-bit integers: lscalar, lvector, lmatrix, lrow, lcol, ltensor3, ltensor4\n",
    "* float: fscalar, fvector, fmatrix, frow, fcol, ftensor3, ftensor4\n",
    "* double: dscalar, dvector, dmatrix, drow, dcol, dtensor3, dtensor4\n",
    "* complex: cscalar, cvector, cmatrix, crow, ccol, ctensor3, ctensor4\n"
   ]
  },
  {
   "cell_type": "code",
   "execution_count": 5,
   "metadata": {
    "collapsed": true
   },
   "outputs": [],
   "source": [
    "# takes an input\n",
    "# adds the input to the shared variable\n",
    "# returns the square of shared variable\n",
    "from theano import shared\n",
    "x = T.iscalar('x')\n",
    "sh = shared(0)\n",
    "f = function([x], sh**2, updates=[(sh,sh+x)])"
   ]
  },
  {
   "cell_type": "code",
   "execution_count": 9,
   "metadata": {
    "collapsed": false
   },
   "outputs": [
    {
     "name": "stdout",
     "output_type": "stream",
     "text": [
      "function returns value 9\n"
     ]
    }
   ],
   "source": [
    "print \"function returns value %d\" % f(1)"
   ]
  },
  {
   "cell_type": "markdown",
   "metadata": {},
   "source": [
    "### Theano Functions"
   ]
  },
  {
   "cell_type": "code",
   "execution_count": 12,
   "metadata": {
    "collapsed": false
   },
   "outputs": [
    {
     "data": {
      "text/plain": [
       "[array(9.0), array(27.0)]"
      ]
     },
     "execution_count": 12,
     "metadata": {},
     "output_type": "execute_result"
    }
   ],
   "source": [
    "#Return Multiple Values\n",
    "a = T.dscalar('a')\n",
    "f = function([a],[a**2, a**3])\n",
    "f(3)"
   ]
  },
  {
   "cell_type": "code",
   "execution_count": 13,
   "metadata": {
    "collapsed": false
   },
   "outputs": [
    {
     "data": {
      "text/plain": [
       "array(48.0)"
      ]
     },
     "execution_count": 13,
     "metadata": {},
     "output_type": "execute_result"
    }
   ],
   "source": [
    "x = T.dscalar('x')\n",
    "y = x**3\n",
    "qy = T.grad(y,x)\n",
    "f = function([x],qy)\n",
    "f(4)"
   ]
  },
  {
   "cell_type": "code",
   "execution_count": 14,
   "metadata": {
    "collapsed": false
   },
   "outputs": [
    {
     "name": "stdout",
     "output_type": "stream",
     "text": [
      "((fill((x ** TensorConstant{3}), TensorConstant{1.0}) * TensorConstant{3}) * (x ** (TensorConstant{3} - TensorConstant{1})))\n"
     ]
    }
   ],
   "source": [
    "from theano import pp  #pretty-print\n",
    "print(pp(qy))"
   ]
  },
  {
   "cell_type": "code",
   "execution_count": 15,
   "metadata": {
    "collapsed": true
   },
   "outputs": [],
   "source": [
    "import theano\n",
    "import theano.tensor as T\n",
    "from theano.ifelse import ifelse\n",
    "import numpy as np\n",
    "\n",
    "#Define variables:\n",
    "x = T.vector('x')\n",
    "w = T.vector('w')\n",
    "b = T.scalar('b')\n",
    "\n",
    "#Define mathematical expression:\n",
    "z = T.dot(x,w)+b\n",
    "a = ifelse(T.lt(z,0),0,1)\n",
    "\n",
    "neuron = theano.function([x,w,b],a)\n"
   ]
  },
  {
   "cell_type": "code",
   "execution_count": 16,
   "metadata": {
    "collapsed": false
   },
   "outputs": [
    {
     "name": "stdout",
     "output_type": "stream",
     "text": [
      "The output for x1=0 | x2=0 is 0\n",
      "The output for x1=0 | x2=1 is 0\n",
      "The output for x1=1 | x2=0 is 0\n",
      "The output for x1=1 | x2=1 is 1\n"
     ]
    }
   ],
   "source": [
    "#Define inputs and weights\n",
    "inputs = [\n",
    "    [0, 0],\n",
    "    [0, 1],\n",
    "    [1, 0],\n",
    "    [1, 1]\n",
    "]\n",
    "weights = [ 1, 1]\n",
    "bias = -1.5\n",
    "\n",
    "#Iterate through all inputs and find outputs:\n",
    "for i in range(len(inputs)):\n",
    "    t = inputs[i]\n",
    "    out = neuron(t,weights,bias)\n",
    "    print 'The output for x1=%d | x2=%d is %d' % (t[0],t[1],out)"
   ]
  },
  {
   "cell_type": "code",
   "execution_count": 17,
   "metadata": {
    "collapsed": false
   },
   "outputs": [
    {
     "name": "stdout",
     "output_type": "stream",
     "text": [
      "The output for x1=0 | x2=0 is 0\n",
      "The output for x1=0 | x2=1 is 0\n",
      "The output for x1=1 | x2=0 is 0\n",
      "The output for x1=1 | x2=1 is 1\n"
     ]
    }
   ],
   "source": [
    "import theano\n",
    "import theano.tensor as T\n",
    "from theano.ifelse import ifelse\n",
    "import numpy as np\n",
    "\n",
    "#Define variables:\n",
    "x = T.vector('x')\n",
    "w = theano.shared(np.array([1,1]))\n",
    "b = theano.shared(-1.5)\n",
    "\n",
    "#Define mathematical expression:\n",
    "z = T.dot(x,w)+b\n",
    "a = ifelse(T.lt(z,0),0,1)\n",
    "\n",
    "neuron = theano.function([x],a)\n",
    "\n",
    "#Define inputs and weights\n",
    "inputs = [\n",
    "    [0, 0],\n",
    "    [0, 1],\n",
    "    [1, 0],\n",
    "    [1, 1]\n",
    "]\n",
    "\n",
    "#Iterate through all inputs and find outputs:\n",
    "for i in range(len(inputs)):\n",
    "    t = inputs[i]\n",
    "    out = neuron(t)\n",
    "    print 'The output for x1=%d | x2=%d is %d' % (t[0],t[1],out)"
   ]
  },
  {
   "cell_type": "code",
   "execution_count": 18,
   "metadata": {
    "collapsed": true
   },
   "outputs": [],
   "source": [
    "#Gradient\n",
    "import theano\n",
    "import theano.tensor as T\n",
    "from theano.ifelse import ifelse\n",
    "import numpy as np\n",
    "from random import random\n",
    "\n",
    "#Define variables:\n",
    "x = T.matrix('x')\n",
    "w = theano.shared(np.array([random(),random()]))\n",
    "b = theano.shared(1.)\n",
    "learning_rate = 0.01\n",
    "\n",
    "#Define mathematical expression:\n",
    "z = T.dot(x,w)+b\n",
    "a = 1/(1+T.exp(-z))"
   ]
  },
  {
   "cell_type": "code",
   "execution_count": 19,
   "metadata": {
    "collapsed": true
   },
   "outputs": [],
   "source": [
    "a_hat = T.vector('a_hat') #Actual output\n",
    "cost = -(a_hat*T.log(a) + (1-a_hat)*T.log(1-a)).sum()"
   ]
  },
  {
   "cell_type": "code",
   "execution_count": 20,
   "metadata": {
    "collapsed": true
   },
   "outputs": [],
   "source": [
    "dw,db = T.grad(cost,[w,b])\n",
    "\n",
    "train = function(\n",
    "    inputs = [x,a_hat],\n",
    "    outputs = [a,cost],\n",
    "    updates = [\n",
    "        [w, w-learning_rate*dw],\n",
    "        [b, b-learning_rate*db]\n",
    "    ]\n",
    ")"
   ]
  },
  {
   "cell_type": "code",
   "execution_count": 22,
   "metadata": {
    "collapsed": false
   },
   "outputs": [
    {
     "name": "stdout",
     "output_type": "stream",
     "text": [
      "The outputs of the NN are:\n",
      "The output for x1=0 | x2=0 is 0.00\n",
      "The output for x1=0 | x2=1 is 0.02\n",
      "The output for x1=1 | x2=0 is 0.02\n",
      "The output for x1=1 | x2=1 is 0.98\n",
      "\n",
      "The flow of cost during model run is as following:\n"
     ]
    },
    {
     "data": {
      "text/plain": [
       "[<matplotlib.lines.Line2D at 0x7f1b633069d0>]"
      ]
     },
     "execution_count": 22,
     "metadata": {},
     "output_type": "execute_result"
    },
    {
     "data": {
      "image/png": "[encoded data removed]",
      "text/plain": [
       "<matplotlib.figure.Figure at 0x7f1b63625d10>"
      ]
     },
     "metadata": {},
     "output_type": "display_data"
    }
   ],
   "source": [
    "#Define inputs and weights\n",
    "inputs = [\n",
    "    [0, 0],\n",
    "    [0, 1],\n",
    "    [1, 0],\n",
    "    [1, 1]\n",
    "]\n",
    "outputs = [0,0,0,1]\n",
    "\n",
    "#Iterate through all inputs and find outputs:\n",
    "cost = []\n",
    "for iteration in range(30000):\n",
    "    pred, cost_iter = train(inputs, outputs)\n",
    "    cost.append(cost_iter)\n",
    "    \n",
    "#Print the outputs:\n",
    "print 'The outputs of the NN are:'\n",
    "for i in range(len(inputs)):\n",
    "    print 'The output for x1=%d | x2=%d is %.2f' % (inputs[i][0],inputs[i][1],pred[i])\n",
    "    \n",
    "#Plot the flow of cost:\n",
    "print '\\nThe flow of cost during model run is as following:'\n",
    "import matplotlib.pyplot as plt\n",
    "%matplotlib inline\n",
    "plt.plot(cost)"
   ]
  },
  {
   "cell_type": "markdown",
   "metadata": {},
   "source": [
    "### Modeling a Two-Layer Neural Network"
   ]
  },
  {
   "cell_type": "code",
   "execution_count": 23,
   "metadata": {
    "collapsed": true
   },
   "outputs": [],
   "source": [
    "# Define variables\n",
    "import theano\n",
    "import theano.tensor as T\n",
    "from theano.ifelse import ifelse\n",
    "import numpy as np\n",
    "from random import random\n",
    "\n",
    "#Define variables:\n",
    "x = T.matrix('x')\n",
    "w1 = theano.shared(np.array([random(),random()]))\n",
    "w2 = theano.shared(np.array([random(),random()]))\n",
    "w3 = theano.shared(np.array([random(),random()]))\n",
    "b1 = theano.shared(1.)\n",
    "b2 = theano.shared(1.)\n",
    "learning_rate = 0.01"
   ]
  },
  {
   "cell_type": "code",
   "execution_count": 27,
   "metadata": {
    "collapsed": true
   },
   "outputs": [],
   "source": [
    "# Define mathematical expression\n",
    "a1 = 1/(1+T.exp(-T.dot(x,w1)-b1))\n",
    "a2 = 1/(1+T.exp(-T.dot(x,w2)-b1))\n",
    "x2 = T.stack([a1,a2],axis=1)\n",
    "a3 = 1/(1+T.exp(-T.dot(x2,w3)-b2))"
   ]
  },
  {
   "cell_type": "code",
   "execution_count": 28,
   "metadata": {
    "collapsed": true
   },
   "outputs": [],
   "source": [
    "# Define gradient and update rule\n",
    "a_hat = T.vector('a_hat') #Actual output\n",
    "cost = -(a_hat*T.log(a3) + (1-a_hat)*T.log(1-a3)).sum()\n",
    "dw1,dw2,dw3,db1,db2 = T.grad(cost,[w1,w2,w3,b1,b2])\n",
    "\n",
    "train = function(\n",
    "    inputs = [x,a_hat],\n",
    "    outputs = [a3,cost],\n",
    "    updates = [\n",
    "        [w1, w1-learning_rate*dw1],\n",
    "        [w2, w2-learning_rate*dw2],\n",
    "        [w3, w3-learning_rate*dw3],\n",
    "        [b1, b1-learning_rate*db1],\n",
    "        [b2, b2-learning_rate*db2]\n",
    "    ]\n",
    ")"
   ]
  },
  {
   "cell_type": "code",
   "execution_count": 29,
   "metadata": {
    "collapsed": false
   },
   "outputs": [
    {
     "name": "stdout",
     "output_type": "stream",
     "text": [
      "The outputs of the NN are:\n",
      "The output for x1=0 | x2=0 is 0.99\n",
      "The output for x1=0 | x2=1 is 0.01\n",
      "The output for x1=1 | x2=0 is 0.01\n",
      "The output for x1=1 | x2=1 is 0.99\n",
      "\n",
      "The flow of cost during model run is as following:\n"
     ]
    },
    {
     "data": {
      "text/plain": [
       "[<matplotlib.lines.Line2D at 0x7f1b5cb97cd0>]"
      ]
     },
     "execution_count": 29,
     "metadata": {},
     "output_type": "execute_result"
    },
    {
     "data": {
      "image/png": "[encoded data removed]",
      "text/plain": [
       "<matplotlib.figure.Figure at 0x7f1b7d070c10>"
      ]
     },
     "metadata": {},
     "output_type": "display_data"
    }
   ],
   "source": [
    "# Train the model\n",
    "inputs = [\n",
    "    [0, 0],\n",
    "    [0, 1],\n",
    "    [1, 0],\n",
    "    [1, 1]\n",
    "]\n",
    "outputs = [1,0,0,1]\n",
    "\n",
    "#Iterate through all inputs and find outputs:\n",
    "cost = []\n",
    "for iteration in range(30000):\n",
    "    pred, cost_iter = train(inputs, outputs)\n",
    "    cost.append(cost_iter)\n",
    "    \n",
    "#Print the outputs:\n",
    "print 'The outputs of the NN are:'\n",
    "for i in range(len(inputs)):\n",
    "    print 'The output for x1=%d | x2=%d is %.2f' % (inputs[i][0],inputs[i][1],pred[i])\n",
    "    \n",
    "#Plot the flow of cost:\n",
    "print '\\nThe flow of cost during model run is as following:'\n",
    "import matplotlib.pyplot as plt\n",
    "%matplotlib inline\n",
    "plt.plot(cost)\n"
   ]
  },
  {
   "cell_type": "code",
   "execution_count": null,
   "metadata": {
    "collapsed": true
   },
   "outputs": [],
   "source": []
  }
 ],
 "metadata": {
  "hide_input": false,
  "kernelspec": {
   "display_name": "Python 2",
   "language": "python",
   "name": "python2"
  },
  "language_info": {
   "codemirror_mode": {
    "name": "ipython",
    "version": 2
   },
   "file_extension": ".py",
   "mimetype": "text/x-python",
   "name": "python",
   "nbconvert_exporter": "python",
   "pygments_lexer": "ipython2",
   "version": "2.7.6"
  }
 },
 "nbformat": 4,
 "nbformat_minor": 1
}
